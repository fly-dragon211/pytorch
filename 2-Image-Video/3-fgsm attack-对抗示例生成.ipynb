{
 "cells": [
  {
   "cell_type": "markdown",
   "metadata": {},
   "source": [
    "# 全文概要\n",
    "\n",
    "本文主要讲解攻击神经网络模型的原理，以及使用`` Fast Gradient Sign Attack (FGSM)``对MNIST数据集分类器进行攻击的过程。\n",
    "\n",
    "攻击者对网络的了解有两种：white-box（了解网络结构）， black-box（仅仅了解输入输出）。\n",
    "攻击类型也有几种，包括misclassification 和 source/target misclassification（让分类器把自己分成自己想要的类）.\n",
    "\n",
    "下面说明FGSA原理\n",
    "\n",
    "Fast Gradient Sign Attack(FGSA) is white-box attact with the goal of misclassfication.\n",
    "\n",
    "![image.png](https://upload-images.jianshu.io/upload_images/20410282-202c0d15a82a7fde.png?imageMogr2/auto-orient/strip%7CimageView2/2/w/1240)\n",
    "有一个已经训练好的网络，固定网络权重，使用反向传播得到输入图像的梯度$\\nabla_{x} J(\\mathbf{\\theta}, \\mathbf{x}, y)$，然后沿梯度移动一小步ϵ使误差最大。\n",
    "\n",
    "\n"
   ]
  }
 ],
 "metadata": {
  "kernelspec": {
   "display_name": "my_ml",
   "language": "python",
   "name": "my_ml"
  },
  "language_info": {
   "codemirror_mode": {
    "name": "ipython",
    "version": 3
   },
   "file_extension": ".py",
   "mimetype": "text/x-python",
   "name": "python",
   "nbconvert_exporter": "python",
   "pygments_lexer": "ipython3",
   "version": "3.8.3"
  }
 },
 "nbformat": 4,
 "nbformat_minor": 4
}
