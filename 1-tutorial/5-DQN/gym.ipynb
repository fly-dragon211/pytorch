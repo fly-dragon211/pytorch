{
 "cells": [
  {
   "cell_type": "code",
   "execution_count": 3,
   "metadata": {},
   "outputs": [
    {
     "name": "stdout",
     "output_type": "stream",
     "text": [
      "Discrete(2)\n",
      "Box(4,)\n",
      "[4.8000002e+00 3.4028235e+38 4.1887903e-01 3.4028235e+38]\n",
      "[-4.8000002e+00 -3.4028235e+38 -4.1887903e-01 -3.4028235e+38]\n"
     ]
    }
   ],
   "source": [
    "import gym\n",
    "\n",
    "env = gym.make('CartPole-v0')   # 定义使用 gym 库中的那一个环境\n",
    "env = env.unwrapped # 不做这个会有很多限制\n",
    "\n",
    "print(env.action_space) # 查看这个环境中可用的 action 有多少个\n",
    "print(env.observation_space)    # 查看这个环境中可用的 state 的 observation 有多少个\n",
    "print(env.observation_space.high)   # 查看 observation 最高取值\n",
    "print(env.observation_space.low)    # 查看 observation 最低取值"
   ]
  }
 ],
 "metadata": {
  "kernelspec": {
   "display_name": "my_ml",
   "language": "python",
   "name": "my_ml"
  },
  "language_info": {
   "codemirror_mode": {
    "name": "ipython",
    "version": 3
   },
   "file_extension": ".py",
   "mimetype": "text/x-python",
   "name": "python",
   "nbconvert_exporter": "python",
   "pygments_lexer": "ipython3",
   "version": "3.8.3"
  }
 },
 "nbformat": 4,
 "nbformat_minor": 4
}
