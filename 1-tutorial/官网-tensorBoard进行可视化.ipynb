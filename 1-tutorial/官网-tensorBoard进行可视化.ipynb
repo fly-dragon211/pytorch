{
 "cells": [
  {
   "cell_type": "code",
   "execution_count": null,
   "metadata": {
    "colab": {},
    "colab_type": "code",
    "id": "-p6ypVC97kWR"
   },
   "outputs": [],
   "source": [
    "# something you need to do in colab\n",
    "try:\n",
    "  import tensorflow as tf\n",
    "  import tensorboard as tb\n",
    "  tf.io.gfile = tb.compat.tensorflow_stub.io.gfile\n",
    "except:\n",
    "  print('Not have tensorflow, continuing!')\n",
    "\n",
    "is_colab = True  # set wether the environment is google colab\n"
   ]
  },
  {
   "cell_type": "markdown",
   "metadata": {
    "colab_type": "text",
    "id": "etJQdTDX4ixW"
   },
   "source": [
    "# 使用tensorBoard进行可视化(建议使用colab运行)\n",
    "\n",
    "\n",
    "PyTorch integrates with TensorBoard, a tool designed for visualizing the results of neural network training runs.\n",
    "In this tutorial, we’ll learn how to:\n",
    "\n",
    "- Read in data and with appropriate transforms (nearly identical to the prior tutorial).\n",
    "- Set up TensorBoard.\n",
    "- Write to TensorBoard.\n",
    "- Inspect a model architecture using TensorBoard.\n",
    "- Use TensorBoard to create interactive versions of the visualizations we created in last tutorial, with less code\n",
    "\n",
    "Specifically, in point #5, we will see:\n",
    "- A couple of ways to inspect our training data  检查训练数据\n",
    "- How to track our model’s performance as it trains 跟踪模型表现\n",
    "- How to assess our model’s performance once it is trained. 评估训练后模型效果"
   ]
  },
  {
   "cell_type": "markdown",
   "metadata": {
    "colab_type": "text",
    "id": "7vm9IFzU4ixa"
   },
   "source": [
    "We will begin with the boilerplate code"
   ]
  },
  {
   "cell_type": "code",
   "execution_count": 1,
   "metadata": {
    "colab": {
     "base_uri": "https://localhost:8080/",
     "height": 351,
     "referenced_widgets": [
      "2eb5bb5194c24cf68b9917251dccce06",
      "050475f3b54f4b00820a46919ecee7f4",
      "4d5a387bd64d4c2c9c68e43b1570d1ed",
      "0f391418fb114dea967a9276e9a8244b",
      "3c8e4990a8b94910ae44870e1a40e417",
      "5e6b41becca44bb79648285623bb1ffb",
      "96409d2a26ee415d9353763f56b32b89",
      "f572bf0587bb46d18e19092e957d118e",
      "71ef83629add4132bae0442bb635df0b",
      "0c18000afc8e4ca5a3a5e68a4dda9afc",
      "dc044cdf7b0d468981dceb6bb2f2cb7d",
      "3568d891908f47b4a89cc9c071fd5883",
      "12e1f3c691704dd289c105a9583b6be9",
      "9636ec1450a14fc8870ed677a8d7c18c",
      "612f3800f0ea47b387c6147f383bd9ce",
      "1c5f39e9ce894e858f51ae88de52ab6f",
      "ebe3c4aa58d54fafa579d75313f3fe8b",
      "0b485b752080440a8b8944b0a9633551",
      "bdc62f0421bd41a495fe8c81279eb26c",
      "a31a57e3b74e47e9b5bc3f4624ddaf2a",
      "2f42eafa2903433fb6f7ea0381439b1a",
      "38bf29a5fd3f4fa99b0223564c02528a",
      "b32267408c1b4a0999d5f10385565b75",
      "b7b338c8fa27450b8aee3aa71bd40d3e",
      "27b580bf0f224f7dac60deb26ee0fde6",
      "394ba72da5f5478292d7d2d67864c1c8",
      "976854f2a2384da0b41fcbc3387cc1ce",
      "7fdfdca3f63742d4a993eeb56c6a1a07",
      "5e3e0de505e74a018fd27214f69d95bf",
      "812b5d4d244a4cc591bc06d12201abe3",
      "7082708fcb9841e6a2c313bb68fcaa90",
      "f5a0ed0249c3461b98542830757b03dd"
     ]
    },
    "colab_type": "code",
    "id": "Fx4w8-FL4ixc",
    "outputId": "d20e0c73-439e-43cb-9d3a-3f18a46c620e"
   },
   "outputs": [],
   "source": [
    "# imports\n",
    "import PIL\n",
    "import sys\n",
    "import matplotlib.pyplot as plt\n",
    "import numpy as np\n",
    "\n",
    "import torch\n",
    "import torchvision\n",
    "import torchvision.transforms as transforms\n",
    "\n",
    "import torch.nn as nn\n",
    "import torch.nn.functional as F\n",
    "import torch.optim as optim\n",
    "\n",
    "BATCH_SIZE = 4\n",
    "NUM_WORK = 0\n",
    "data_path = 'D:\\python\\Pytorch\\data'\n",
    "LR = 0.001\n",
    "MOMENTUM = 0.9\n",
    "\n",
    "\n",
    "# transforms\n",
    "transform = transforms.Compose(\n",
    "     [transforms.ToTensor(),\n",
    "     transforms.Normalize((0.5,), (0.5))]\n",
    " )\n",
    "\n",
    "# datasets\n",
    "trainset = torchvision.datasets.FashionMNIST(data_path, download=True, train=True,\n",
    "                                            transform=transform)\n",
    "testset = torchvision.datasets.FashionMNIST(data_path, download=True, train=False,\n",
    "                                            transform=transform)\n",
    "\n",
    "# dataladers\n",
    "trainloader = torch.utils.data.DataLoader(trainset, batch_size=BATCH_SIZE,\n",
    "                                         shuffle=True, num_workers=NUM_WORK)\n",
    "testloader = torch.utils.data.DataLoader(testset, batch_size=BATCH_SIZE,\n",
    "                                         shuffle=True, num_workers=NUM_WORK)\n",
    "\n",
    "# constant for classes\n",
    "classes = tuple(trainset.classes)  # 10 classes\n",
    "\n",
    "# helper function to show an image\n",
    "def matplotlib_imshow(img, one_channel=False):\n",
    "    if one_channel:\n",
    "        img = img.mean(dim=0)\n",
    "    img = img / 2 + 0.5     # unnormalize\n",
    "    npimg = img.numpy()\n",
    "    if one_channel:\n",
    "        plt.imshow(npimg, cmap=\"Greys\")\n",
    "    else:\n",
    "        plt.imshow(np.transpose(npimg, (1, 2, 0)))  # BRG -> RGB"
   ]
  },
  {
   "cell_type": "code",
   "execution_count": null,
   "metadata": {
    "colab": {
     "base_uri": "https://localhost:8080/",
     "height": 186
    },
    "colab_type": "code",
    "id": "6KlmYLud4ixl",
    "outputId": "bb890022-4d0b-48c0-f309-cbdab747f250"
   },
   "outputs": [
    {
     "data": {
      "text/plain": [
       "('T-shirt/top',\n",
       " 'Trouser',\n",
       " 'Pullover',\n",
       " 'Dress',\n",
       " 'Coat',\n",
       " 'Sandal',\n",
       " 'Shirt',\n",
       " 'Sneaker',\n",
       " 'Bag',\n",
       " 'Ankle boot')"
      ]
     },
     "execution_count": 3,
     "metadata": {
      "tags": []
     },
     "output_type": "execute_result"
    }
   ],
   "source": [
    "tuple(trainset.classes)"
   ]
  },
  {
   "cell_type": "markdown",
   "metadata": {
    "colab_type": "text",
    "id": "QxdS4yU24ixt"
   },
   "source": [
    "We’ll define a similar model architecture from that tutorial, making only minor modifications to account for the fact that the images are now one channel instead of three and 28x28 instead of 32x32:"
   ]
  },
  {
   "cell_type": "code",
   "execution_count": null,
   "metadata": {
    "colab": {
     "base_uri": "https://localhost:8080/",
     "height": 51
    },
    "colab_type": "code",
    "id": "KzAXBtoP4ixv",
    "outputId": "b30a3e88-23b5-429e-c9d8-acf0d8ec8d6c"
   },
   "outputs": [
    {
     "name": "stdout",
     "output_type": "stream",
     "text": [
      "\n",
      "\n"
     ]
    }
   ],
   "source": [
    "class Net(nn.Module):\n",
    "    def __init__(self):\n",
    "        super(Net, self).__init__()\n",
    "        self.conv1 = nn.Conv2d(1, 6, 5)\n",
    "        self.pool = nn.MaxPool2d(2, 2)  \n",
    "        self.conv2 = nn.Conv2d(6, 16, 5)  \n",
    "        self.fc1 = nn.Linear(16 * 4 * 4, 120)  \n",
    "        self.fc2 = nn.Linear(120, 84)\n",
    "        self.fc3 = nn.Linear(84, 10)\n",
    "\n",
    "    def forward(self, x):\n",
    "        x = self.pool(F.relu(self.conv1(x)))  # 28*28 -> 24*24 -> 12*12\n",
    "        x = self.pool(F.relu(self.conv2(x)))  # ->8*8 -> 4*4\n",
    "        x = x.view(-1, 16 * 4 * 4)\n",
    "        x = F.relu(self.fc1(x))\n",
    "        x = F.relu(self.fc2(x))\n",
    "        x = self.fc3(x)\n",
    "        return x\n",
    "\n",
    "\n",
    "net = Net()\n",
    "\n",
    "# define optimizer and criterion(loss function)\n",
    "criterion = nn.CrossEntropyLoss()\n",
    "optimizer = optim.SGD(net.parameters(), lr=LR, momentum=MOMENTUM)"
   ]
  },
  {
   "cell_type": "markdown",
   "metadata": {
    "colab_type": "text",
    "id": "6fApt3d_4ix0"
   },
   "source": [
    "## TensorBoard 设置\n",
    "\n",
    "now we’ll set up TensorBoard, importing tensorboard from torch.utils and defining a SummaryWriter, our key object for writing information to TensorBoard. \n",
    "SummaryWriter 是将信息写入tensorboard的关键对象"
   ]
  },
  {
   "cell_type": "code",
   "execution_count": null,
   "metadata": {
    "colab": {},
    "colab_type": "code",
    "id": "SjHlEh224ix1"
   },
   "outputs": [],
   "source": [
    "from torch.utils.tensorboard import SummaryWriter\n",
    "\n",
    "# 默认的记录路径是\"runs\"\n",
    "writer = SummaryWriter('runs/fashion_mnist_experiment_1')\n"
   ]
  },
  {
   "cell_type": "markdown",
   "metadata": {
    "colab_type": "text",
    "id": "gI2FuOZL4iyA"
   },
   "source": [
    "## 写入TensorBoard，打开网页\n",
    "\n",
    "Now let’s write an image to our TensorBoard - specifically, a grid - using make_grid."
   ]
  },
  {
   "cell_type": "code",
   "execution_count": null,
   "metadata": {
    "colab": {
     "base_uri": "https://localhost:8080/",
     "height": 172
    },
    "colab_type": "code",
    "id": "eI9sAXlQ4iyB",
    "outputId": "2d62e250-952e-410f-b1f8-830a79f33e04"
   },
   "outputs": [
    {
     "name": "stdout",
     "output_type": "stream",
     "text": [
      "\n",
      "\n"
     ]
    },
    {
     "data": {
      "image/png": "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\n",
      "text/plain": [
       "<Figure size 432x288 with 1 Axes>"
      ]
     },
     "metadata": {
      "needs_background": "light",
      "tags": []
     },
     "output_type": "display_data"
    }
   ],
   "source": [
    "# get some random training images\n",
    "dataiter = iter(trainloader)\n",
    "images, labels = dataiter.next()\n",
    "\n",
    "# create grid of images 图像表格\n",
    "img_grid = torchvision.utils.make_grid(images)\n",
    "\n",
    "# show images\n",
    "matplotlib_imshow(img_grid, one_channel=True)\n",
    "\n",
    "# write to tensorboard\n",
    "writer.add_image('four images', img_grid)"
   ]
  },
  {
   "cell_type": "code",
   "execution_count": null,
   "metadata": {
    "colab": {},
    "colab_type": "code",
    "id": "UiGHtcUD9DNA"
   },
   "outputs": [],
   "source": [
    "# 进入虚拟环境然后运行tensorboard, jupyter lab建议打开terminal运行\n",
    "# ! conda activate my_ml && tensorboard --logdir="
   ]
  },
  {
   "cell_type": "markdown",
   "metadata": {
    "colab_type": "text",
    "id": "x5qFQuzL8RxY"
   },
   "source": [
    "### colab ngrok方法\n",
    "Download and unzip [ngrok](https://ngrok.com).\n",
    "\n",
    "Launch ngrok background process...\n",
    "\n",
    "...and retrieve public url. ([Source](https://stackoverflow.com/a/1955555/5222402))\n",
    "\n",
    "### colab 载入TensorBoard notebook插件\n",
    "\n",
    "这样可以在后台运行\n",
    "\n",
    "[参考](https://www.tensorflow.org/tensorboard/tensorboard_in_notebooks)"
   ]
  },
  {
   "cell_type": "code",
   "execution_count": null,
   "metadata": {
    "colab": {},
    "colab_type": "code",
    "id": "rw1ExzlK9O1f"
   },
   "outputs": [],
   "source": [
    "\n",
    "import sys\n",
    "\n",
    "if not is_colab:\n",
    "    sys.exit(0)\n",
    "\n",
<<<<<<< HEAD
    "\n",
=======
    "! wget https://bin.equinox.io/c/4VmDzA7iaHb/ngrok-stable-linux-amd64.zip > /dev/null 2>&1\n",
    "! unzip ngrok-stable-linux-amd64.zip > /dev/null 2>&1\n",
>>>>>>> 9586ffde46c298e6f8bfaf12d0ff36944196eb63
    "\n"
   ]
  },
  {
   "cell_type": "code",
   "execution_count": null,
   "metadata": {
    "colab": {},
    "colab_type": "code",
    "id": "cAmKBSVT4iyG"
   },
   "outputs": [],
   "source": [
    "# colab请使用下列方法\n",
<<<<<<< HEAD
    "\n",
    "! wget https://bin.equinox.io/c/4VmDzA7iaHb/ngrok-stable-linux-amd64.zip > /dev/null 2>&1\n",
    "! unzip ngrok-stable-linux-amd64.zip > /dev/null 2>&1\n",
=======
>>>>>>> 9586ffde46c298e6f8bfaf12d0ff36944196eb63
    "# Launch ngrok background process...\n",
    "get_ipython().system_raw('./ngrok http 6006 &')\n",
    "\n",
    "# ...and retrieve public url.\n",
    "! curl -s http://localhost:4040/api/tunnels | python3 -c \\\n",
    "    \"import sys, json; print(json.load(sys.stdin)['tunnels'][0]['public_url'])\"\n",
    "\n",
    "# 添加TensorBoard的路径\n",
    "import os\n",
    "log_dir = '/content/runs'\n",
    "if not os.path.exists(log_dir):\n",
    "      os.makedirs(log_dir)\n",
    "\n",
    "# Load the TensorBoard notebook extension\n",
    "%load_ext tensorboard\n",
    "%tensorboard --logdir runs --host 0.0.0.0 --port 6006\n",
    "\n"
   ]
  },
  {
   "cell_type": "markdown",
   "metadata": {
    "colab_type": "text",
    "id": "1-3vwpdy4iyR"
   },
   "source": [
    "from the command line and then navigating to http://localhost:6006\n",
    "\n",
    "Now you know how to use TensorBoard! This example, however, could be done in a Jupyter Notebook - where TensorBoard really excels is in creating interactive visualizations. We’ll cover one of those next, and several more by the end of the tutorial."
   ]
  },
  {
   "cell_type": "markdown",
   "metadata": {
    "colab_type": "text",
    "id": "OtS6WcaA4iyS"
   },
   "source": [
    "## 使用TensorBoard观察模型架构\n",
    "One of TensorBoard’s strengths is its ability to visualize complex model structures. Let’s visualize the model we built."
   ]
  },
  {
   "cell_type": "code",
   "execution_count": null,
   "metadata": {
    "colab": {},
    "colab_type": "code",
    "id": "8595NfoT4iyV"
   },
   "outputs": [],
   "source": [
    "writer.add_graph(net, images)\n",
    "writer.close()"
   ]
  },
  {
   "cell_type": "markdown",
   "metadata": {
    "colab_type": "text",
    "id": "0H8bODdT4iye"
   },
   "source": [
    "Go ahead and double click on “Net” to see it expand, seeing a detailed view of the individual operations that make up the model.  双击查看详细\n",
    "\n",
    "TensorBoard has a very handy feature for visualizing high dimensional data such as image data in a lower dimensional space; we’ll cover this next."
   ]
  },
  {
   "cell_type": "markdown",
   "metadata": {
    "colab_type": "text",
    "id": "jaEj-BOf4iyg"
   },
   "source": [
    "## 在TensorBoard中添加投影（可视化高维数据）\n",
    "\n",
    "We can visualize the lower dimensional representation of higher dimensional data via the add_embedding method"
   ]
  },
  {
   "cell_type": "code",
   "execution_count": null,
   "metadata": {
    "colab": {
     "base_uri": "https://localhost:8080/",
     "height": 34
    },
    "colab_type": "code",
    "id": "r-oqRzi-4iyi",
    "outputId": "170dce94-1dba-46f7-f017-dff317d4e783"
   },
   "outputs": [
    {
     "name": "stdout",
     "output_type": "stream",
     "text": [
      "torch.Size([100, 28, 28])\n"
     ]
    }
   ],
   "source": [
    "def select_n_random(data, labels, n=100):\n",
    "    \"\"\"\n",
    "    Selects n random datapoints and their corresponding labels from a dataset\n",
    "    \"\"\"\n",
    "    assert len(data) == len(labels)\n",
    "    perm = torch.randperm(len(data))\n",
    "#     print(perm.size())\n",
    "    return data[perm][:n], labels[perm][:n]\n",
    "\n",
    "images, labels = select_n_random(trainset.data, trainset.targets)\n",
    "\n",
    "class_labels = [classes[lab] for lab in labels]\n",
    "\n",
    "# log embeddings \n",
    "print(images.shape)\n",
    "features = images.view(-1, 28*28)\n",
    "writer.add_embedding(features, metadata=class_labels, label_img=images.unsqueeze(1))\n",
    "writer.close()"
   ]
  },
  {
   "cell_type": "markdown",
   "metadata": {
    "colab_type": "text",
    "id": "r6aGWoQs4iym"
   },
   "source": [
    "Now in the “Projector” tab of TensorBoard, you can see these 100 images - each of which is 784 dimensional - projected down into three dimensional space. Furthermore, this is interactive: you can click and drag to rotate the three dimensional projection. Finally, a couple of tips to make the visualization easier to see: select “color: label” on the top left, as well as enabling “night mode”, which will make the images easier to see since their background is white:"
   ]
  },
  {
   "cell_type": "markdown",
   "metadata": {
    "colab_type": "text",
    "id": "xR_9V4fx4iyn"
   },
   "source": [
    "## 使用TensorBoard追踪模型训练\n",
    "\n",
    "In the previous example, we simply printed the model’s running loss every 2000 iterations. Now, we’ll instead log the running loss to TensorBoard, along with a view into the predictions the model is making via the plot_classes_preds function.\n",
    "\n",
    "使用plot_classes_preds进行追踪训练"
   ]
  },
  {
   "cell_type": "code",
   "execution_count": null,
   "metadata": {
    "colab": {},
    "colab_type": "code",
    "id": "DHgm8oDQ4iyo"
   },
   "outputs": [],
   "source": [
    "# helper functions\n",
    "def images_to_probs(net, images):\n",
    "    \"\"\"\n",
    "    Generates predictions and corresponding probabilities from a trained network\n",
    "    and a list of images\n",
    "    \"\"\"\n",
    "    output = net(images)\n",
    "    _, pred_tensor = torch.max(output, 1)\n",
    "    preds = np.squeeze(pred_tensor.numpy())\n",
    "    return preds, [F.softmax(el, dim=0)[i].item() for i, el in zip(preds, output)]\n",
    "\n",
    "\n",
    "def plot_classes_preds(net, images, labels):\n",
    "    \"\"\"\n",
    "    Generates matplotlib Figure using a trained network, along with images\n",
    "    and labels from a batch, that shows the network's top prediction along\n",
    "    with its probability, alongside the actual label, coloring this\n",
    "    information based on whether the prediction was correct or not.\n",
    "    Uses the \"images_to_probs\" function.\n",
    "    \"\"\"\n",
    "    preds, probs = images_to_probs(net, images)\n",
    "    # plot the images in the batch, along with predicted and true labels\n",
    "    fig = plt.figure(figsize=(12, 48))\n",
    "    for idx in np.arange(4):\n",
    "        ax = fig.add_subplot(1, 4, idx+1)\n",
    "        matplotlib_imshow(images[idx], one_channel=True)\n",
    "        ax.set_title(\"{0}, {1:.1f}% \\n (label:{2})\".format(\n",
    "            classes[preds[idx]],\n",
    "            probs[idx] * 100.0,\n",
    "            classes[labels[idx]],\n",
    "            color=(\"green\" if preds[idx]==labels[idx].item() else \"red\")\n",
    "        ))\n",
    "    return fig\n"
   ]
  },
  {
   "cell_type": "markdown",
   "metadata": {
    "colab_type": "text",
    "id": "ApKkEx8B4iyw"
   },
   "source": [
    "Finally, let’s train the model using the same model training code from the prior tutorial, but writing results to TensorBoard every 1000 batches instead of printing to console; this is done using the add_scalar function.\n",
    "\n",
    "In addition, as we train, we’ll generate an image showing the model’s predictions vs. the actual results on the four images included in that batch."
   ]
  },
  {
   "cell_type": "code",
   "execution_count": null,
   "metadata": {
    "colab": {
     "base_uri": "https://localhost:8080/",
     "height": 34
    },
    "colab_type": "code",
    "id": "vO3ZUqVB4iyy",
    "outputId": "30dc257a-9b46-447a-bb4f-da1cc2b69350"
   },
   "outputs": [
    {
     "name": "stdout",
     "output_type": "stream",
     "text": [
      "Finish training\n"
     ]
    }
   ],
   "source": [
    "running_loss = 0.0  # the sum of 1000 mini-batches loss\n",
    "for epoch in range(1):\n",
    "    \n",
    "    for i, data in enumerate(trainloader, 0):\n",
    "        inputs, labels = data\n",
    "        optimizer.zero_grad()\n",
    "        \n",
    "        outputs = net(inputs)\n",
    "        loss = criterion(outputs, labels)\n",
    "        loss.backward()\n",
    "        optimizer.step()\n",
    "        \n",
    "        running_loss += loss.item()\n",
    "        \n",
    "        if i % 1000 == 999:\n",
    "            # log running loss\n",
    "            writer.add_scalar('training loss',\n",
    "                             running_loss / 1000,\n",
    "                             epoch * len(trainloader) + i)\n",
    "            # log a Matplotlib Figure showing the model's prediction on a random mini-batch\n",
    "            writer.add_figure('predictions vs. actuals',\n",
    "                             plot_classes_preds(net, inputs, labels),\n",
    "                             global_step=epoch * len(trainloader) + i)\n",
    "            running_loss = 0.0\n",
    "print('Finish training')"
   ]
  },
  {
   "cell_type": "markdown",
   "metadata": {
    "colab_type": "text",
    "id": "akRcT-RX4iy2"
   },
   "source": [
    "You can now look at the scalars tab to see the running loss plotted over the 15,000 iterations of training: 可以看到running loss 下降曲线\n",
    "\n",
    "In addition, we can look at the predictions the model made on arbitrary batches throughout learning. See the “Images” tab and scroll down under the “predictions vs. actuals” visualization to see this; this shows us that, for example, after just 3000 training iterations, the model was already able to distinguish between visually distinct classes such as shirts, sneakers, and coats, though it isn’t as confident as it becomes later on in training:  \n",
    "\n",
    "In the prior tutorial, we looked at per-class accuracy once the model had been trained; here, we’ll use TensorBoard to plot precision-recall curves (good explanation here) for each class."
   ]
  },
  {
   "cell_type": "markdown",
   "metadata": {
    "colab_type": "text",
    "id": "ETXNnpNc4iy3"
   },
   "source": [
    "## 使用TensorBoard评估训练好的模型\n",
    "\n"
   ]
  },
  {
   "cell_type": "code",
   "execution_count": null,
   "metadata": {
    "colab": {},
    "colab_type": "code",
    "id": "Sc4_wDV04iy3"
   },
   "outputs": [],
   "source": [
    "# 1. gets the probability predictions in a test_size x num_classes Tensor\n",
    "# 2. gets the preds in a test_size Tensor\n",
    "# takes ~10 seconds to run\n",
    "class_probs = []  # probability\n",
    "class_preds = []  # prediction\n",
    "\n",
    "with torch.no_grad():\n",
    "    for data in testloader:\n",
    "        images, labels = data\n",
    "        outputs = net(images)\n",
    "        class_probs_batch = [F.softmax(el, 0) for el in outputs]  # el is one-dimention\n",
    "        _, class_prebs_batch = torch.max(outputs, 1)\n",
    "        \n",
    "        class_probs.append(class_probs_batch)\n",
    "        class_preds.append(class_prebs_batch)\n",
    "        \n",
    "test_probs = torch.cat([torch.stack(batch) for batch in class_probs])\n",
    "test_preds = torch.cat(class_preds)\n",
    "\n",
    "# helper function\n",
    "def add_pr_curve_tensorboard(class_index, test_probs, test_preds, global_step=0):\n",
    "    \"\"\"\n",
    "    Takes in a \"class_index\" from 0 to 9 and plots the corresponding\n",
    "    precision-recall curve\n",
    "    \"\"\"\n",
    "    tensorboard_preds = test_preds == class_index\n",
    "    tensorboard_probs = test_probs[:, class_index]\n",
    "    \n",
    "    writer.add_pr_curve(classes[class_index],\n",
    "                       tensorboard_preds,\n",
    "                       tensorboard_probs,\n",
    "                       global_step=global_step)\n",
    "    writer.close()\n",
    "    \n",
    "# plot all the pr curves\n",
    "for i in range(len(classes)):\n",
    "    add_pr_curve_tensorboard(i, test_probs, test_preds)\n",
    "        "
   ]
  },
  {
   "cell_type": "markdown",
   "metadata": {
    "colab_type": "text",
    "id": "yPZjrNFy4iy7"
   },
   "source": [
    "$$:math:`\\text{Softmax}(x_{i}) = \\frac{exp(x_i)}{\\sum_j exp(x_j)}`$$"
   ]
  },
  {
   "cell_type": "code",
   "execution_count": null,
   "metadata": {
    "colab": {},
    "colab_type": "code",
    "id": "nBaYorIb0f_O"
   },
   "outputs": [],
   "source": [
    "# 这种方法有问题，会使用python2\n",
    "\n",
    "# get_ipython().system_raw(\n",
    "#     'tensorboard --logdir {} --host 0.0.0.0 --port 6006 &'\n",
    "#     .format(log_dir)\n",
    "# )"
   ]
  }
 ],
 "metadata": {
  "colab": {
   "collapsed_sections": [],
   "name": "tensorBoard进行可视化(官网).ipynb",
   "provenance": [],
   "toc_visible": true
  },
  "kernelspec": {
   "display_name": "my_ml",
   "language": "python",
   "name": "my_ml"
  },
  "language_info": {
   "codemirror_mode": {
    "name": "ipython",
    "version": 3
   },
   "file_extension": ".py",
   "mimetype": "text/x-python",
   "name": "python",
   "nbconvert_exporter": "python",
   "pygments_lexer": "ipython3",
   "version": "3.8.3"
  },
  "toc-autonumbering": true,
<<<<<<< HEAD
  "toc-showcode": false,
=======
>>>>>>> 9586ffde46c298e6f8bfaf12d0ff36944196eb63
  "widgets": {
   "application/vnd.jupyter.widget-state+json": {
    "050475f3b54f4b00820a46919ecee7f4": {
     "model_module": "@jupyter-widgets/base",
     "model_name": "LayoutModel",
     "state": {
      "_model_module": "@jupyter-widgets/base",
      "_model_module_version": "1.2.0",
      "_model_name": "LayoutModel",
      "_view_count": null,
      "_view_module": "@jupyter-widgets/base",
      "_view_module_version": "1.2.0",
      "_view_name": "LayoutView",
      "align_content": null,
      "align_items": null,
      "align_self": null,
      "border": null,
      "bottom": null,
      "display": null,
      "flex": null,
      "flex_flow": null,
      "grid_area": null,
      "grid_auto_columns": null,
      "grid_auto_flow": null,
      "grid_auto_rows": null,
      "grid_column": null,
      "grid_gap": null,
      "grid_row": null,
      "grid_template_areas": null,
      "grid_template_columns": null,
      "grid_template_rows": null,
      "height": null,
      "justify_content": null,
      "justify_items": null,
      "left": null,
      "margin": null,
      "max_height": null,
      "max_width": null,
      "min_height": null,
      "min_width": null,
      "object_fit": null,
      "object_position": null,
      "order": null,
      "overflow": null,
      "overflow_x": null,
      "overflow_y": null,
      "padding": null,
      "right": null,
      "top": null,
      "visibility": null,
      "width": null
     }
    },
    "0b485b752080440a8b8944b0a9633551": {
     "model_module": "@jupyter-widgets/base",
     "model_name": "LayoutModel",
     "state": {
      "_model_module": "@jupyter-widgets/base",
      "_model_module_version": "1.2.0",
      "_model_name": "LayoutModel",
      "_view_count": null,
      "_view_module": "@jupyter-widgets/base",
      "_view_module_version": "1.2.0",
      "_view_name": "LayoutView",
      "align_content": null,
      "align_items": null,
      "align_self": null,
      "border": null,
      "bottom": null,
      "display": null,
      "flex": null,
      "flex_flow": null,
      "grid_area": null,
      "grid_auto_columns": null,
      "grid_auto_flow": null,
      "grid_auto_rows": null,
      "grid_column": null,
      "grid_gap": null,
      "grid_row": null,
      "grid_template_areas": null,
      "grid_template_columns": null,
      "grid_template_rows": null,
      "height": null,
      "justify_content": null,
      "justify_items": null,
      "left": null,
      "margin": null,
      "max_height": null,
      "max_width": null,
      "min_height": null,
      "min_width": null,
      "object_fit": null,
      "object_position": null,
      "order": null,
      "overflow": null,
      "overflow_x": null,
      "overflow_y": null,
      "padding": null,
      "right": null,
      "top": null,
      "visibility": null,
      "width": null
     }
    },
    "0c18000afc8e4ca5a3a5e68a4dda9afc": {
     "model_module": "@jupyter-widgets/base",
     "model_name": "LayoutModel",
     "state": {
      "_model_module": "@jupyter-widgets/base",
      "_model_module_version": "1.2.0",
      "_model_name": "LayoutModel",
      "_view_count": null,
      "_view_module": "@jupyter-widgets/base",
      "_view_module_version": "1.2.0",
      "_view_name": "LayoutView",
      "align_content": null,
      "align_items": null,
      "align_self": null,
      "border": null,
      "bottom": null,
      "display": null,
      "flex": null,
      "flex_flow": null,
      "grid_area": null,
      "grid_auto_columns": null,
      "grid_auto_flow": null,
      "grid_auto_rows": null,
      "grid_column": null,
      "grid_gap": null,
      "grid_row": null,
      "grid_template_areas": null,
      "grid_template_columns": null,
      "grid_template_rows": null,
      "height": null,
      "justify_content": null,
      "justify_items": null,
      "left": null,
      "margin": null,
      "max_height": null,
      "max_width": null,
      "min_height": null,
      "min_width": null,
      "object_fit": null,
      "object_position": null,
      "order": null,
      "overflow": null,
      "overflow_x": null,
      "overflow_y": null,
      "padding": null,
      "right": null,
      "top": null,
      "visibility": null,
      "width": null
     }
    },
    "0f391418fb114dea967a9276e9a8244b": {
     "model_module": "@jupyter-widgets/controls",
     "model_name": "HTMLModel",
     "state": {
      "_dom_classes": [],
      "_model_module": "@jupyter-widgets/controls",
      "_model_module_version": "1.5.0",
      "_model_name": "HTMLModel",
      "_view_count": null,
      "_view_module": "@jupyter-widgets/controls",
      "_view_module_version": "1.5.0",
      "_view_name": "HTMLView",
      "description": "",
      "description_tooltip": null,
      "layout": "IPY_MODEL_f572bf0587bb46d18e19092e957d118e",
      "placeholder": "​",
      "style": "IPY_MODEL_96409d2a26ee415d9353763f56b32b89",
      "value": " 26427392/? [00:04&lt;00:00, 5757398.79it/s]"
     }
    },
    "12e1f3c691704dd289c105a9583b6be9": {
     "model_module": "@jupyter-widgets/controls",
     "model_name": "ProgressStyleModel",
     "state": {
      "_model_module": "@jupyter-widgets/controls",
      "_model_module_version": "1.5.0",
      "_model_name": "ProgressStyleModel",
      "_view_count": null,
      "_view_module": "@jupyter-widgets/base",
      "_view_module_version": "1.2.0",
      "_view_name": "StyleView",
      "bar_color": null,
      "description_width": "initial"
     }
    },
    "1c5f39e9ce894e858f51ae88de52ab6f": {
     "model_module": "@jupyter-widgets/base",
     "model_name": "LayoutModel",
     "state": {
      "_model_module": "@jupyter-widgets/base",
      "_model_module_version": "1.2.0",
      "_model_name": "LayoutModel",
      "_view_count": null,
      "_view_module": "@jupyter-widgets/base",
      "_view_module_version": "1.2.0",
      "_view_name": "LayoutView",
      "align_content": null,
      "align_items": null,
      "align_self": null,
      "border": null,
      "bottom": null,
      "display": null,
      "flex": null,
      "flex_flow": null,
      "grid_area": null,
      "grid_auto_columns": null,
      "grid_auto_flow": null,
      "grid_auto_rows": null,
      "grid_column": null,
      "grid_gap": null,
      "grid_row": null,
      "grid_template_areas": null,
      "grid_template_columns": null,
      "grid_template_rows": null,
      "height": null,
      "justify_content": null,
      "justify_items": null,
      "left": null,
      "margin": null,
      "max_height": null,
      "max_width": null,
      "min_height": null,
      "min_width": null,
      "object_fit": null,
      "object_position": null,
      "order": null,
      "overflow": null,
      "overflow_x": null,
      "overflow_y": null,
      "padding": null,
      "right": null,
      "top": null,
      "visibility": null,
      "width": null
     }
    },
    "27b580bf0f224f7dac60deb26ee0fde6": {
     "model_module": "@jupyter-widgets/controls",
     "model_name": "HBoxModel",
     "state": {
      "_dom_classes": [],
      "_model_module": "@jupyter-widgets/controls",
      "_model_module_version": "1.5.0",
      "_model_name": "HBoxModel",
      "_view_count": null,
      "_view_module": "@jupyter-widgets/controls",
      "_view_module_version": "1.5.0",
      "_view_name": "HBoxView",
      "box_style": "",
      "children": [
       "IPY_MODEL_976854f2a2384da0b41fcbc3387cc1ce",
       "IPY_MODEL_7fdfdca3f63742d4a993eeb56c6a1a07"
      ],
      "layout": "IPY_MODEL_394ba72da5f5478292d7d2d67864c1c8"
     }
    },
    "2eb5bb5194c24cf68b9917251dccce06": {
     "model_module": "@jupyter-widgets/controls",
     "model_name": "HBoxModel",
     "state": {
      "_dom_classes": [],
      "_model_module": "@jupyter-widgets/controls",
      "_model_module_version": "1.5.0",
      "_model_name": "HBoxModel",
      "_view_count": null,
      "_view_module": "@jupyter-widgets/controls",
      "_view_module_version": "1.5.0",
      "_view_name": "HBoxView",
      "box_style": "",
      "children": [
       "IPY_MODEL_4d5a387bd64d4c2c9c68e43b1570d1ed",
       "IPY_MODEL_0f391418fb114dea967a9276e9a8244b"
      ],
      "layout": "IPY_MODEL_050475f3b54f4b00820a46919ecee7f4"
     }
    },
    "2f42eafa2903433fb6f7ea0381439b1a": {
     "model_module": "@jupyter-widgets/controls",
     "model_name": "ProgressStyleModel",
     "state": {
      "_model_module": "@jupyter-widgets/controls",
      "_model_module_version": "1.5.0",
      "_model_name": "ProgressStyleModel",
      "_view_count": null,
      "_view_module": "@jupyter-widgets/base",
      "_view_module_version": "1.2.0",
      "_view_name": "StyleView",
      "bar_color": null,
      "description_width": "initial"
     }
    },
    "3568d891908f47b4a89cc9c071fd5883": {
     "model_module": "@jupyter-widgets/controls",
     "model_name": "HTMLModel",
     "state": {
      "_dom_classes": [],
      "_model_module": "@jupyter-widgets/controls",
      "_model_module_version": "1.5.0",
      "_model_name": "HTMLModel",
      "_view_count": null,
      "_view_module": "@jupyter-widgets/controls",
      "_view_module_version": "1.5.0",
      "_view_name": "HTMLView",
      "description": "",
      "description_tooltip": null,
      "layout": "IPY_MODEL_1c5f39e9ce894e858f51ae88de52ab6f",
      "placeholder": "​",
      "style": "IPY_MODEL_612f3800f0ea47b387c6147f383bd9ce",
      "value": " 32768/? [00:02&lt;00:00, 15047.88it/s]"
     }
    },
    "38bf29a5fd3f4fa99b0223564c02528a": {
     "model_module": "@jupyter-widgets/base",
     "model_name": "LayoutModel",
     "state": {
      "_model_module": "@jupyter-widgets/base",
      "_model_module_version": "1.2.0",
      "_model_name": "LayoutModel",
      "_view_count": null,
      "_view_module": "@jupyter-widgets/base",
      "_view_module_version": "1.2.0",
      "_view_name": "LayoutView",
      "align_content": null,
      "align_items": null,
      "align_self": null,
      "border": null,
      "bottom": null,
      "display": null,
      "flex": null,
      "flex_flow": null,
      "grid_area": null,
      "grid_auto_columns": null,
      "grid_auto_flow": null,
      "grid_auto_rows": null,
      "grid_column": null,
      "grid_gap": null,
      "grid_row": null,
      "grid_template_areas": null,
      "grid_template_columns": null,
      "grid_template_rows": null,
      "height": null,
      "justify_content": null,
      "justify_items": null,
      "left": null,
      "margin": null,
      "max_height": null,
      "max_width": null,
      "min_height": null,
      "min_width": null,
      "object_fit": null,
      "object_position": null,
      "order": null,
      "overflow": null,
      "overflow_x": null,
      "overflow_y": null,
      "padding": null,
      "right": null,
      "top": null,
      "visibility": null,
      "width": null
     }
    },
    "394ba72da5f5478292d7d2d67864c1c8": {
     "model_module": "@jupyter-widgets/base",
     "model_name": "LayoutModel",
     "state": {
      "_model_module": "@jupyter-widgets/base",
      "_model_module_version": "1.2.0",
      "_model_name": "LayoutModel",
      "_view_count": null,
      "_view_module": "@jupyter-widgets/base",
      "_view_module_version": "1.2.0",
      "_view_name": "LayoutView",
      "align_content": null,
      "align_items": null,
      "align_self": null,
      "border": null,
      "bottom": null,
      "display": null,
      "flex": null,
      "flex_flow": null,
      "grid_area": null,
      "grid_auto_columns": null,
      "grid_auto_flow": null,
      "grid_auto_rows": null,
      "grid_column": null,
      "grid_gap": null,
      "grid_row": null,
      "grid_template_areas": null,
      "grid_template_columns": null,
      "grid_template_rows": null,
      "height": null,
      "justify_content": null,
      "justify_items": null,
      "left": null,
      "margin": null,
      "max_height": null,
      "max_width": null,
      "min_height": null,
      "min_width": null,
      "object_fit": null,
      "object_position": null,
      "order": null,
      "overflow": null,
      "overflow_x": null,
      "overflow_y": null,
      "padding": null,
      "right": null,
      "top": null,
      "visibility": null,
      "width": null
     }
    },
    "3c8e4990a8b94910ae44870e1a40e417": {
     "model_module": "@jupyter-widgets/controls",
     "model_name": "ProgressStyleModel",
     "state": {
      "_model_module": "@jupyter-widgets/controls",
      "_model_module_version": "1.5.0",
      "_model_name": "ProgressStyleModel",
      "_view_count": null,
      "_view_module": "@jupyter-widgets/base",
      "_view_module_version": "1.2.0",
      "_view_name": "StyleView",
      "bar_color": null,
      "description_width": "initial"
     }
    },
    "4d5a387bd64d4c2c9c68e43b1570d1ed": {
     "model_module": "@jupyter-widgets/controls",
     "model_name": "FloatProgressModel",
     "state": {
      "_dom_classes": [],
      "_model_module": "@jupyter-widgets/controls",
      "_model_module_version": "1.5.0",
      "_model_name": "FloatProgressModel",
      "_view_count": null,
      "_view_module": "@jupyter-widgets/controls",
      "_view_module_version": "1.5.0",
      "_view_name": "ProgressView",
      "bar_style": "success",
      "description": "",
      "description_tooltip": null,
      "layout": "IPY_MODEL_5e6b41becca44bb79648285623bb1ffb",
      "max": 1,
      "min": 0,
      "orientation": "horizontal",
      "style": "IPY_MODEL_3c8e4990a8b94910ae44870e1a40e417",
      "value": 1
     }
    },
    "5e3e0de505e74a018fd27214f69d95bf": {
     "model_module": "@jupyter-widgets/controls",
     "model_name": "ProgressStyleModel",
     "state": {
      "_model_module": "@jupyter-widgets/controls",
      "_model_module_version": "1.5.0",
      "_model_name": "ProgressStyleModel",
      "_view_count": null,
      "_view_module": "@jupyter-widgets/base",
      "_view_module_version": "1.2.0",
      "_view_name": "StyleView",
      "bar_color": null,
      "description_width": "initial"
     }
    },
    "5e6b41becca44bb79648285623bb1ffb": {
     "model_module": "@jupyter-widgets/base",
     "model_name": "LayoutModel",
     "state": {
      "_model_module": "@jupyter-widgets/base",
      "_model_module_version": "1.2.0",
      "_model_name": "LayoutModel",
      "_view_count": null,
      "_view_module": "@jupyter-widgets/base",
      "_view_module_version": "1.2.0",
      "_view_name": "LayoutView",
      "align_content": null,
      "align_items": null,
      "align_self": null,
      "border": null,
      "bottom": null,
      "display": null,
      "flex": null,
      "flex_flow": null,
      "grid_area": null,
      "grid_auto_columns": null,
      "grid_auto_flow": null,
      "grid_auto_rows": null,
      "grid_column": null,
      "grid_gap": null,
      "grid_row": null,
      "grid_template_areas": null,
      "grid_template_columns": null,
      "grid_template_rows": null,
      "height": null,
      "justify_content": null,
      "justify_items": null,
      "left": null,
      "margin": null,
      "max_height": null,
      "max_width": null,
      "min_height": null,
      "min_width": null,
      "object_fit": null,
      "object_position": null,
      "order": null,
      "overflow": null,
      "overflow_x": null,
      "overflow_y": null,
      "padding": null,
      "right": null,
      "top": null,
      "visibility": null,
      "width": null
     }
    },
    "612f3800f0ea47b387c6147f383bd9ce": {
     "model_module": "@jupyter-widgets/controls",
     "model_name": "DescriptionStyleModel",
     "state": {
      "_model_module": "@jupyter-widgets/controls",
      "_model_module_version": "1.5.0",
      "_model_name": "DescriptionStyleModel",
      "_view_count": null,
      "_view_module": "@jupyter-widgets/base",
      "_view_module_version": "1.2.0",
      "_view_name": "StyleView",
      "description_width": ""
     }
    },
    "7082708fcb9841e6a2c313bb68fcaa90": {
     "model_module": "@jupyter-widgets/controls",
     "model_name": "DescriptionStyleModel",
     "state": {
      "_model_module": "@jupyter-widgets/controls",
      "_model_module_version": "1.5.0",
      "_model_name": "DescriptionStyleModel",
      "_view_count": null,
      "_view_module": "@jupyter-widgets/base",
      "_view_module_version": "1.2.0",
      "_view_name": "StyleView",
      "description_width": ""
     }
    },
    "71ef83629add4132bae0442bb635df0b": {
     "model_module": "@jupyter-widgets/controls",
     "model_name": "HBoxModel",
     "state": {
      "_dom_classes": [],
      "_model_module": "@jupyter-widgets/controls",
      "_model_module_version": "1.5.0",
      "_model_name": "HBoxModel",
      "_view_count": null,
      "_view_module": "@jupyter-widgets/controls",
      "_view_module_version": "1.5.0",
      "_view_name": "HBoxView",
      "box_style": "",
      "children": [
       "IPY_MODEL_dc044cdf7b0d468981dceb6bb2f2cb7d",
       "IPY_MODEL_3568d891908f47b4a89cc9c071fd5883"
      ],
      "layout": "IPY_MODEL_0c18000afc8e4ca5a3a5e68a4dda9afc"
     }
    },
    "7fdfdca3f63742d4a993eeb56c6a1a07": {
     "model_module": "@jupyter-widgets/controls",
     "model_name": "HTMLModel",
     "state": {
      "_dom_classes": [],
      "_model_module": "@jupyter-widgets/controls",
      "_model_module_version": "1.5.0",
      "_model_name": "HTMLModel",
      "_view_count": null,
      "_view_module": "@jupyter-widgets/controls",
      "_view_module_version": "1.5.0",
      "_view_name": "HTMLView",
      "description": "",
      "description_tooltip": null,
      "layout": "IPY_MODEL_f5a0ed0249c3461b98542830757b03dd",
      "placeholder": "​",
      "style": "IPY_MODEL_7082708fcb9841e6a2c313bb68fcaa90",
      "value": " 8192/? [00:00&lt;00:00, 16254.33it/s]"
     }
    },
    "812b5d4d244a4cc591bc06d12201abe3": {
     "model_module": "@jupyter-widgets/base",
     "model_name": "LayoutModel",
     "state": {
      "_model_module": "@jupyter-widgets/base",
      "_model_module_version": "1.2.0",
      "_model_name": "LayoutModel",
      "_view_count": null,
      "_view_module": "@jupyter-widgets/base",
      "_view_module_version": "1.2.0",
      "_view_name": "LayoutView",
      "align_content": null,
      "align_items": null,
      "align_self": null,
      "border": null,
      "bottom": null,
      "display": null,
      "flex": null,
      "flex_flow": null,
      "grid_area": null,
      "grid_auto_columns": null,
      "grid_auto_flow": null,
      "grid_auto_rows": null,
      "grid_column": null,
      "grid_gap": null,
      "grid_row": null,
      "grid_template_areas": null,
      "grid_template_columns": null,
      "grid_template_rows": null,
      "height": null,
      "justify_content": null,
      "justify_items": null,
      "left": null,
      "margin": null,
      "max_height": null,
      "max_width": null,
      "min_height": null,
      "min_width": null,
      "object_fit": null,
      "object_position": null,
      "order": null,
      "overflow": null,
      "overflow_x": null,
      "overflow_y": null,
      "padding": null,
      "right": null,
      "top": null,
      "visibility": null,
      "width": null
     }
    },
    "9636ec1450a14fc8870ed677a8d7c18c": {
     "model_module": "@jupyter-widgets/base",
     "model_name": "LayoutModel",
     "state": {
      "_model_module": "@jupyter-widgets/base",
      "_model_module_version": "1.2.0",
      "_model_name": "LayoutModel",
      "_view_count": null,
      "_view_module": "@jupyter-widgets/base",
      "_view_module_version": "1.2.0",
      "_view_name": "LayoutView",
      "align_content": null,
      "align_items": null,
      "align_self": null,
      "border": null,
      "bottom": null,
      "display": null,
      "flex": null,
      "flex_flow": null,
      "grid_area": null,
      "grid_auto_columns": null,
      "grid_auto_flow": null,
      "grid_auto_rows": null,
      "grid_column": null,
      "grid_gap": null,
      "grid_row": null,
      "grid_template_areas": null,
      "grid_template_columns": null,
      "grid_template_rows": null,
      "height": null,
      "justify_content": null,
      "justify_items": null,
      "left": null,
      "margin": null,
      "max_height": null,
      "max_width": null,
      "min_height": null,
      "min_width": null,
      "object_fit": null,
      "object_position": null,
      "order": null,
      "overflow": null,
      "overflow_x": null,
      "overflow_y": null,
      "padding": null,
      "right": null,
      "top": null,
      "visibility": null,
      "width": null
     }
    },
    "96409d2a26ee415d9353763f56b32b89": {
     "model_module": "@jupyter-widgets/controls",
     "model_name": "DescriptionStyleModel",
     "state": {
      "_model_module": "@jupyter-widgets/controls",
      "_model_module_version": "1.5.0",
      "_model_name": "DescriptionStyleModel",
      "_view_count": null,
      "_view_module": "@jupyter-widgets/base",
      "_view_module_version": "1.2.0",
      "_view_name": "StyleView",
      "description_width": ""
     }
    },
    "976854f2a2384da0b41fcbc3387cc1ce": {
     "model_module": "@jupyter-widgets/controls",
     "model_name": "FloatProgressModel",
     "state": {
      "_dom_classes": [],
      "_model_module": "@jupyter-widgets/controls",
      "_model_module_version": "1.5.0",
      "_model_name": "FloatProgressModel",
      "_view_count": null,
      "_view_module": "@jupyter-widgets/controls",
      "_view_module_version": "1.5.0",
      "_view_name": "ProgressView",
      "bar_style": "success",
      "description": "",
      "description_tooltip": null,
      "layout": "IPY_MODEL_812b5d4d244a4cc591bc06d12201abe3",
      "max": 1,
      "min": 0,
      "orientation": "horizontal",
      "style": "IPY_MODEL_5e3e0de505e74a018fd27214f69d95bf",
      "value": 1
     }
    },
    "a31a57e3b74e47e9b5bc3f4624ddaf2a": {
     "model_module": "@jupyter-widgets/controls",
     "model_name": "HTMLModel",
     "state": {
      "_dom_classes": [],
      "_model_module": "@jupyter-widgets/controls",
      "_model_module_version": "1.5.0",
      "_model_name": "HTMLModel",
      "_view_count": null,
      "_view_module": "@jupyter-widgets/controls",
      "_view_module_version": "1.5.0",
      "_view_name": "HTMLView",
      "description": "",
      "description_tooltip": null,
      "layout": "IPY_MODEL_b7b338c8fa27450b8aee3aa71bd40d3e",
      "placeholder": "​",
      "style": "IPY_MODEL_b32267408c1b4a0999d5f10385565b75",
      "value": " 4423680/? [00:01&lt;00:00, 2693071.98it/s]"
     }
    },
    "b32267408c1b4a0999d5f10385565b75": {
     "model_module": "@jupyter-widgets/controls",
     "model_name": "DescriptionStyleModel",
     "state": {
      "_model_module": "@jupyter-widgets/controls",
      "_model_module_version": "1.5.0",
      "_model_name": "DescriptionStyleModel",
      "_view_count": null,
      "_view_module": "@jupyter-widgets/base",
      "_view_module_version": "1.2.0",
      "_view_name": "StyleView",
      "description_width": ""
     }
    },
    "b7b338c8fa27450b8aee3aa71bd40d3e": {
     "model_module": "@jupyter-widgets/base",
     "model_name": "LayoutModel",
     "state": {
      "_model_module": "@jupyter-widgets/base",
      "_model_module_version": "1.2.0",
      "_model_name": "LayoutModel",
      "_view_count": null,
      "_view_module": "@jupyter-widgets/base",
      "_view_module_version": "1.2.0",
      "_view_name": "LayoutView",
      "align_content": null,
      "align_items": null,
      "align_self": null,
      "border": null,
      "bottom": null,
      "display": null,
      "flex": null,
      "flex_flow": null,
      "grid_area": null,
      "grid_auto_columns": null,
      "grid_auto_flow": null,
      "grid_auto_rows": null,
      "grid_column": null,
      "grid_gap": null,
      "grid_row": null,
      "grid_template_areas": null,
      "grid_template_columns": null,
      "grid_template_rows": null,
      "height": null,
      "justify_content": null,
      "justify_items": null,
      "left": null,
      "margin": null,
      "max_height": null,
      "max_width": null,
      "min_height": null,
      "min_width": null,
      "object_fit": null,
      "object_position": null,
      "order": null,
      "overflow": null,
      "overflow_x": null,
      "overflow_y": null,
      "padding": null,
      "right": null,
      "top": null,
      "visibility": null,
      "width": null
     }
    },
    "bdc62f0421bd41a495fe8c81279eb26c": {
     "model_module": "@jupyter-widgets/controls",
     "model_name": "FloatProgressModel",
     "state": {
      "_dom_classes": [],
      "_model_module": "@jupyter-widgets/controls",
      "_model_module_version": "1.5.0",
      "_model_name": "FloatProgressModel",
      "_view_count": null,
      "_view_module": "@jupyter-widgets/controls",
      "_view_module_version": "1.5.0",
      "_view_name": "ProgressView",
      "bar_style": "success",
      "description": "",
      "description_tooltip": null,
      "layout": "IPY_MODEL_38bf29a5fd3f4fa99b0223564c02528a",
      "max": 1,
      "min": 0,
      "orientation": "horizontal",
      "style": "IPY_MODEL_2f42eafa2903433fb6f7ea0381439b1a",
      "value": 1
     }
    },
    "dc044cdf7b0d468981dceb6bb2f2cb7d": {
     "model_module": "@jupyter-widgets/controls",
     "model_name": "FloatProgressModel",
     "state": {
      "_dom_classes": [],
      "_model_module": "@jupyter-widgets/controls",
      "_model_module_version": "1.5.0",
      "_model_name": "FloatProgressModel",
      "_view_count": null,
      "_view_module": "@jupyter-widgets/controls",
      "_view_module_version": "1.5.0",
      "_view_name": "ProgressView",
      "bar_style": "success",
      "description": "",
      "description_tooltip": null,
      "layout": "IPY_MODEL_9636ec1450a14fc8870ed677a8d7c18c",
      "max": 1,
      "min": 0,
      "orientation": "horizontal",
      "style": "IPY_MODEL_12e1f3c691704dd289c105a9583b6be9",
      "value": 1
     }
    },
    "ebe3c4aa58d54fafa579d75313f3fe8b": {
     "model_module": "@jupyter-widgets/controls",
     "model_name": "HBoxModel",
     "state": {
      "_dom_classes": [],
      "_model_module": "@jupyter-widgets/controls",
      "_model_module_version": "1.5.0",
      "_model_name": "HBoxModel",
      "_view_count": null,
      "_view_module": "@jupyter-widgets/controls",
      "_view_module_version": "1.5.0",
      "_view_name": "HBoxView",
      "box_style": "",
      "children": [
       "IPY_MODEL_bdc62f0421bd41a495fe8c81279eb26c",
       "IPY_MODEL_a31a57e3b74e47e9b5bc3f4624ddaf2a"
      ],
      "layout": "IPY_MODEL_0b485b752080440a8b8944b0a9633551"
     }
    },
    "f572bf0587bb46d18e19092e957d118e": {
     "model_module": "@jupyter-widgets/base",
     "model_name": "LayoutModel",
     "state": {
      "_model_module": "@jupyter-widgets/base",
      "_model_module_version": "1.2.0",
      "_model_name": "LayoutModel",
      "_view_count": null,
      "_view_module": "@jupyter-widgets/base",
      "_view_module_version": "1.2.0",
      "_view_name": "LayoutView",
      "align_content": null,
      "align_items": null,
      "align_self": null,
      "border": null,
      "bottom": null,
      "display": null,
      "flex": null,
      "flex_flow": null,
      "grid_area": null,
      "grid_auto_columns": null,
      "grid_auto_flow": null,
      "grid_auto_rows": null,
      "grid_column": null,
      "grid_gap": null,
      "grid_row": null,
      "grid_template_areas": null,
      "grid_template_columns": null,
      "grid_template_rows": null,
      "height": null,
      "justify_content": null,
      "justify_items": null,
      "left": null,
      "margin": null,
      "max_height": null,
      "max_width": null,
      "min_height": null,
      "min_width": null,
      "object_fit": null,
      "object_position": null,
      "order": null,
      "overflow": null,
      "overflow_x": null,
      "overflow_y": null,
      "padding": null,
      "right": null,
      "top": null,
      "visibility": null,
      "width": null
     }
    },
    "f5a0ed0249c3461b98542830757b03dd": {
     "model_module": "@jupyter-widgets/base",
     "model_name": "LayoutModel",
     "state": {
      "_model_module": "@jupyter-widgets/base",
      "_model_module_version": "1.2.0",
      "_model_name": "LayoutModel",
      "_view_count": null,
      "_view_module": "@jupyter-widgets/base",
      "_view_module_version": "1.2.0",
      "_view_name": "LayoutView",
      "align_content": null,
      "align_items": null,
      "align_self": null,
      "border": null,
      "bottom": null,
      "display": null,
      "flex": null,
      "flex_flow": null,
      "grid_area": null,
      "grid_auto_columns": null,
      "grid_auto_flow": null,
      "grid_auto_rows": null,
      "grid_column": null,
      "grid_gap": null,
      "grid_row": null,
      "grid_template_areas": null,
      "grid_template_columns": null,
      "grid_template_rows": null,
      "height": null,
      "justify_content": null,
      "justify_items": null,
      "left": null,
      "margin": null,
      "max_height": null,
      "max_width": null,
      "min_height": null,
      "min_width": null,
      "object_fit": null,
      "object_position": null,
      "order": null,
      "overflow": null,
      "overflow_x": null,
      "overflow_y": null,
      "padding": null,
      "right": null,
      "top": null,
      "visibility": null,
      "width": null
     }
    }
   }
  }
 },
 "nbformat": 4,
 "nbformat_minor": 4
}
